{
 "cells": [
  {
   "cell_type": "code",
   "execution_count": 2,
   "id": "ca375a4f",
   "metadata": {},
   "outputs": [
    {
     "name": "stdout",
     "output_type": "stream",
     "text": [
      "Data has been scraped and saved to 'hotelsdata1.csv'.\n"
     ]
    }
   ],
   "source": [
    "import requests\n",
    "from bs4 import BeautifulSoup\n",
    "import csv\n",
    "\n",
    "url_list = [\n",
    "    'https://www.booking.com/city/ae/dubai.html',\n",
    "    'https://www.booking.com/city/gb/london.html',\n",
    "    'https://www.booking.com/city/my/kuala-lumpur.html',\n",
    "    'https://www.booking.com/city/gb/manchester.html',\n",
    "    'https://www.booking.com/city/au/sydney.html',\n",
    "    'https://www.booking.com/city/in/new-delhi.html',\n",
    "    'https://www.booking.com/city/gb/birmingham.html',\n",
    "    'https://www.booking.com/city/de/berlin.html',\n",
    "    'https://www.booking.com/city/au/melbourne.html',\n",
    "    'https://www.booking.com/city/fr/paris.fr.html',\n",
    "    'https://www.booking.com/city/jp/tokyo.html',\n",
    "    'https://www.booking.com/city/ca/toronto.html'\n",
    "]\n",
    "\n",
    "# Create a CSV file for writing\n",
    "with open('hotelsdata1.csv', 'w', newline='', encoding='utf-8') as csv_file:\n",
    "    csv_writer = csv.writer(csv_file)\n",
    "    # Write headers to the CSV file\n",
    "    csv_writer.writerow(['sno', 'Hotel name', 'City', 'Number of Reviews', 'User Ratings', 'Star Rating', 'Review Score'])\n",
    "\n",
    "    # Initialize sno for numbering\n",
    "    sno = 1\n",
    "\n",
    "    for url in url_list:\n",
    "        response = requests.get(url)\n",
    "        soup = BeautifulSoup(response.text, 'html.parser')\n",
    "        hotel_items = soup.find_all('div', class_=\"sr__card_content\")\n",
    "\n",
    "        for hotel in hotel_items:\n",
    "            # Extract data for each hotel\n",
    "            hotel_name = hotel.find('span', class_='bui-card__title').text.strip()\n",
    "            location = hotel.find('span', itemprop=\"addressLocality\").text.strip()\n",
    "            num_reviews = hotel.find('div', class_='bui-review-score__text').text.strip()\n",
    "            user_ratings = hotel.find('div', class_='bui-review-score__badge').text.strip()\n",
    "            star_rating = len(hotel.find_all('span', class_='invisible_spoken'))\n",
    "            review_score = hotel.find('div', class_='bui-review-score__title').text.strip()\n",
    "\n",
    "            # Write the data to the CSV file\n",
    "            csv_writer.writerow([sno, hotel_name, location, num_reviews, user_ratings, star_rating, review_score])\n",
    "            sno += 1\n",
    "\n",
    "print(\"Data has been scraped and saved to 'hotelsdata1.csv'.\")\n"
   ]
  },
  {
   "cell_type": "code",
   "execution_count": null,
   "id": "b7626592",
   "metadata": {},
   "outputs": [],
   "source": []
  }
 ],
 "metadata": {
  "kernelspec": {
   "display_name": "Python 3 (ipykernel)",
   "language": "python",
   "name": "python3"
  },
  "language_info": {
   "codemirror_mode": {
    "name": "ipython",
    "version": 3
   },
   "file_extension": ".py",
   "mimetype": "text/x-python",
   "name": "python",
   "nbconvert_exporter": "python",
   "pygments_lexer": "ipython3",
   "version": "3.10.9"
  }
 },
 "nbformat": 4,
 "nbformat_minor": 5
}
