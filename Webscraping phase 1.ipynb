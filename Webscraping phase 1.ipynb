{
 "cells": [
  {
   "cell_type": "code",
   "execution_count": 57,
   "id": "66496d3d",
   "metadata": {},
   "outputs": [
    {
     "name": "stdout",
     "output_type": "stream",
     "text": [
      "Dubai: https://www.booking.com/city/ae/dubai.html\n",
      "London: https://www.booking.com/city/gb/london.html\n",
      "Kuala Lumpur: https://www.booking.com/city/my/kuala-lumpur.html\n",
      "Manchester: https://www.booking.com/city/gb/manchester.html\n",
      "Sydney: https://www.booking.com/city/au/sydney.html\n",
      "New Delhi: https://www.booking.com/city/in/new-delhi.html\n",
      "Birmingham: https://www.booking.com/city/gb/birmingham.html\n",
      "Berlin: https://www.booking.com/city/de/berlin.html\n",
      "Melbourne: https://www.booking.com/city/au/melbourne.html\n",
      "Paris: https://www.booking.com/city/fr/paris.fr.html\n",
      "Tokyo: https://www.booking.com/city/jp/tokyo.html\n",
      "Toronto: https://www.booking.com/city/ca/toronto.html\n"
     ]
    }
   ],
   "source": [
    "#  Webscraping the url of booking .com along 12 cities names provided \n",
    "\n",
    "import requests\n",
    "from bs4 import BeautifulSoup\n",
    "\n",
    "#  Create a list of cities\n",
    "cities = ['Dubai', 'London', 'Kuala Lumpur', 'Manchester', 'Sydney', 'New Delhi', 'Birmingham', 'Berlin', 'Melbourne', 'Paris', 'Tokyo', 'Toronto']\n",
    "\n",
    "# Create a function to scrape Booking.com URLs for each city\n",
    "def scrape_booking_urls(city):\n",
    "    search_query = f'Booking.com {city}'\n",
    "    url = f'https://www.google.com/search?q={search_query}'\n",
    "    \n",
    "    headers = {\n",
    "        'User-Agent': 'Mozilla/5.0 (Windows NT 10.0; Win64; x64) AppleWebKit/537.36 (KHTML, like Gecko) Chrome/86.0.4240.198 Safari/537.36'}\n",
    "    \n",
    "    response = requests.get(url, headers=headers)\n",
    "    \n",
    "    if response.status_code == 200:\n",
    "        soup = BeautifulSoup(response.text, 'html.parser')\n",
    "        \n",
    "        # Find the first search result link\n",
    "        results = soup.find_all('a')\n",
    "        for result in results:\n",
    "            if 'Booking.com' in result.get_text():\n",
    "                return result['href']\n",
    "    \n",
    "    return None\n",
    "\n",
    "# Create a dictionary to store the URLs for each city\n",
    "city_urls = {}\n",
    "for city in cities:\n",
    "    url = scrape_booking_urls(city)\n",
    "    city_urls[city] = url\n",
    "\n",
    "# Print the dictionary with city names and their corresponding Booking.com URLs\n",
    "for city, url in city_urls.items():\n",
    "    print(f'{city}: {url}')"
   ]
  },
  {
   "cell_type": "code",
   "execution_count": null,
   "id": "2a6d729d",
   "metadata": {},
   "outputs": [],
   "source": []
  }
 ],
 "metadata": {
  "kernelspec": {
   "display_name": "Python 3 (ipykernel)",
   "language": "python",
   "name": "python3"
  },
  "language_info": {
   "codemirror_mode": {
    "name": "ipython",
    "version": 3
   },
   "file_extension": ".py",
   "mimetype": "text/x-python",
   "name": "python",
   "nbconvert_exporter": "python",
   "pygments_lexer": "ipython3",
   "version": "3.11.4"
  }
 },
 "nbformat": 4,
 "nbformat_minor": 5
}
